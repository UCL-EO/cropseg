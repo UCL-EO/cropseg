{
 "cells": [
  {
   "cell_type": "markdown",
   "id": "smooth-grammar",
   "metadata": {},
   "source": [
    "## mlhub_datadownload.ipynb\n",
    "\n",
    "Andrew Burt - a.burt@ucl.ac.uk\n",
    "\n",
    "### Overview\n",
    "\n",
    "This notebook can be used to download crop type data (i.e., labelled ground and satellite imagery data) from Radiant MLHub (https://dashboard.mlhub.earth), and prepare these data for subsequent processing and visualisation (e.g., to work with [datadashboard](datadashboard.ipynb)).\n",
    "\n",
    "It is necessary for the user to have registered an account with MLHub and generated an API key, and to enter it below. It is also necessary to define the dictionary \"datavariables\" with paths to the directories where the data will be stored."
   ]
  },
  {
   "cell_type": "code",
   "execution_count": 1,
   "id": "vietnamese-pioneer",
   "metadata": {},
   "outputs": [
    {
     "name": "stdin",
     "output_type": "stream",
     "text": [
      " ································································\n"
     ]
    }
   ],
   "source": [
    "import os\n",
    "import getpass\n",
    "datavariables = {\n",
    "                  \"datadir\":\"../data/\",\n",
    "                  \"metadatadir\":\"../data/metadata/\"\n",
    "                }\n",
    "key = getpass.getpass()\n",
    "os.environ[\"MLHUB_API_KEY\"] = key"
   ]
  },
  {
   "cell_type": "markdown",
   "id": "included-moral",
   "metadata": {},
   "source": [
    "### Datasets\n",
    "\n",
    "Here, the datasets stored on MLHub are interacted with using the Python client (radiant-mlhub). The following uses this package to output the available crop type datasets. "
   ]
  },
  {
   "cell_type": "code",
   "execution_count": 2,
   "id": "nasty-avatar",
   "metadata": {},
   "outputs": [
    {
     "name": "stdout",
     "output_type": "stream",
     "text": [
      "ref_african_crops_kenya_02\n",
      "ref_african_crops_uganda_01\n",
      "ref_african_crops_tanzania_01\n",
      "ref_african_crops_kenya_01\n",
      "su_african_crops_ghana\n",
      "su_african_crops_south_sudan\n"
     ]
    }
   ],
   "source": [
    "import radiant_mlhub\n",
    "datasets = radiant_mlhub.client.list_datasets()\n",
    "for i in range(len(datasets)):\n",
    "    if \"crops\" in datasets[i][\"id\"]:\n",
    "        print(datasets[i][\"id\"])"
   ]
  },
  {
   "cell_type": "markdown",
   "id": "gothic-redhead",
   "metadata": {},
   "source": [
    "### Collections\n",
    "\n",
    "MLHub refers to the labelled ground and satellite imagery data as labels and source imagery, respectively. Labels and source imagery comprising each dataset are separated into collections. The collections contained in the dataset 'su_african_crops_ghana' are enumerated below, where it can be seen the four available collections contain the labels, and Planet, Sentinel-1 and Sentinel-2 source imagery."
   ]
  },
  {
   "cell_type": "code",
   "execution_count": 3,
   "id": "presidential-pastor",
   "metadata": {},
   "outputs": [
    {
     "name": "stdout",
     "output_type": "stream",
     "text": [
      "su_african_crops_ghana_labels\n",
      "su_african_crops_ghana_source_planet\n",
      "su_african_crops_ghana_source_s1\n",
      "su_african_crops_ghana_source_s2\n"
     ]
    }
   ],
   "source": [
    "import radiant_mlhub\n",
    "dataset = \"su_african_crops_ghana\"\n",
    "collections = radiant_mlhub.client.list_collections()\n",
    "for i in range(len(collections)):\n",
    "    if dataset in collections[i][\"id\"]:\n",
    "        print(collections[i][\"id\"])"
   ]
  },
  {
   "cell_type": "markdown",
   "id": "micro-confirmation",
   "metadata": {},
   "source": [
    "### Downloading collections\n",
    "\n",
    "Collections can be downloaded in their entirety in the form of a tarball. However, if the user has limited resources, or is running in Binder, [datadashboard](datadashboard.ipynb) requires only the labels to be dowloaded (items within the source imagery collections can be individually downloaded on demand, as discussed in the following section)."
   ]
  },
  {
   "cell_type": "code",
   "execution_count": 4,
   "id": "caring-charger",
   "metadata": {},
   "outputs": [
    {
     "name": "stderr",
     "output_type": "stream",
     "text": [
      "5.0M [00:01,  2.90M/s]                \n"
     ]
    }
   ],
   "source": [
    "import glob\n",
    "import tarfile\n",
    "radiant_mlhub.client.download_archive(\"su_african_crops_ghana_labels\",f'{datavariables[\"datadir\"]}',overwrite=False)\n",
    "#radiant_mlhub.client.download_archive(\"su_african_crops_ghana_source_s1\",f'{datavariables[\"datadir\"]}',overwrite=False)\n",
    "#radiant_mlhub.client.download_archive(\"su_african_crops_ghana_source_s2\",f'{datavariables[\"datadir\"]}',overwrite=False)\n",
    "tarballs = glob.glob(f'{datavariables[\"datadir\"]}{dataset}_*.tar.gz')\n",
    "for i in range(len(tarballs)):\n",
    "    tar = tarfile.open(tarballs[i],\"r:gz\")\n",
    "    tar.extractall(path=f'{datavariables[\"datadir\"]}')\n",
    "    tar.close()"
   ]
  },
  {
   "cell_type": "markdown",
   "id": "statutory-aside",
   "metadata": {},
   "source": [
    "### Metadata\n",
    "\n",
    "#### Items inside a collection\n",
    "\n",
    "[datadashboard](datadashboard.ipynb) requires knowledge of the items available inside each collection (e.g., a labelled ground tile or Sentinel-2 image). The following commented-out code code retrieves the metadata of each item inside a collection, and stores them in a single JSON file in the metadata directory.\n",
    "\n",
    "Note: this is time consuming, and has already been completed for the collections \"su_african_crops_ghana_labels\", \"su_african_crops_ghana_source_s1\" and \"su_african_crops_ghana_source_s2\" in the dataset \"su_african_crop_ghana\". It is necessary to unpack these files."
   ]
  },
  {
   "cell_type": "code",
   "execution_count": 5,
   "id": "dynamic-commander",
   "metadata": {},
   "outputs": [],
   "source": [
    "#import json\n",
    "#for i in range(len(collections)):\n",
    "#    if dataset in collections[i][\"id\"]:\n",
    "#        it = radiant_mlhub.client.list_collection_items(collections[i][\"id\"],limit=None)\n",
    "#        items = list(it)\n",
    "#        for j in range(len(items)):\n",
    "#            items[j][\"assets\"].pop(\"documentation\",None)\n",
    "#        with open(f'{datavariables[\"metadatadir\"]}{collections[i][\"id\"]}.json',\"w\") as fp:\n",
    "#            json.dump(items,fp,separators=(\",\",\":\"))            \n",
    "import tarfile\n",
    "tarballs = glob.glob(f'{datavariables[\"metadatadir\"]}{dataset}_*.tar.gz')\n",
    "for i in range(len(tarballs)):\n",
    "    tar = tarfile.open(tarballs[i],\"r:gz\")\n",
    "    tar.extractall(path=f'{datavariables[\"metadatadir\"]}')\n",
    "    tar.close()            "
   ]
  },
  {
   "cell_type": "markdown",
   "id": "amended-investigator",
   "metadata": {},
   "source": [
    "#### Label crop types\n",
    "\n",
    "The labels collection (i.e., the labelled ground data) comprises of N tiles, whereby pixel values are dictated by crop type (for the dataset \"su_african_crops_ghana\", see https://doi.org/10.34911/rdnt.ry138p). A list of dictionaries is required to link pixel value to crop type. Here, this list is output to a single JSON file in the metadata directory. An additional \"colour\" pair has been included to provide a unique and distinct RGB value for each crop type (the palette was generated on https://mokole.com/palette.html)."
   ]
  },
  {
   "cell_type": "code",
   "execution_count": 6,
   "id": "expired-sociology",
   "metadata": {},
   "outputs": [],
   "source": [
    "import json\n",
    "labelids = [\n",
    "            {\"crop\":\"unknown\",\"id\":0,\"colour\":\"#000000\"},\n",
    "            {\"crop\":\"ground nut\",\"id\":1,\"colour\":\"#00008b\"},\n",
    "            {\"crop\":\"maize\",\"id\":2,\"colour\":\"#daa520\"},\n",
    "            {\"crop\":\"rice\",\"id\":3,\"colour\":\"#8b008b\"},\n",
    "            {\"crop\":\"soya bean\",\"id\":4,\"colour\":\"#ff4500\"},\n",
    "            {\"crop\":\"yam\",\"id\":5,\"colour\":\"#ffff00\"},\n",
    "            {\"crop\":\"intercrop\",\"id\":6,\"colour\":\"#00ff00\"},\n",
    "            {\"crop\":\"sorghum\",\"id\":7,\"colour\":\"#00fa9a\"},\n",
    "            {\"crop\":\"okra\",\"id\":8,\"colour\":\"#dc143c\"},\n",
    "            {\"crop\":\"cassava\",\"id\":9,\"colour\":\"#00bfff\"},\n",
    "            {\"crop\":\"millet\",\"id\":10,\"colour\":\"#0000ff\"},\n",
    "            {\"crop\":\"tomato\",\"id\":11,\"colour\":\"#ff00ff\"},\n",
    "            {\"crop\":\"cowpea\",\"id\":12,\"colour\":\"#1e90ff\"},\n",
    "            {\"crop\":\"sweet potato\",\"id\":13,\"colour\":\"#db7093\"},\n",
    "            {\"crop\":\"babala beans\",\"id\":14,\"colour\":\"#eee8aa\"},\n",
    "            {\"crop\":\"salad vegetables\",\"id\":15,\"colour\":\"#ff1493\"},\n",
    "            {\"crop\":\"bra and ayoyo\",\"id\":16,\"colour\":\"#808080\"},\n",
    "            {\"crop\":\"watermelon\",\"id\":17,\"colour\":\"#556b2f\"},\n",
    "            {\"crop\":\"zabla\",\"id\":18,\"colour\":\"#483d8b\"},\n",
    "            {\"crop\":\"nili\",\"id\":19,\"colour\":\"#008000\"},\n",
    "            {\"crop\":\"kpalika\",\"id\":20,\"colour\":\"#9acd32\"},\n",
    "            {\"crop\":\"cotton\",\"id\":21,\"colour\":\"#20b2aa\"},\n",
    "            {\"crop\":\"akata\",\"id\":22,\"colour\":\"#ffa07a\"},\n",
    "            {\"crop\":\"nyenabe\",\"id\":23,\"colour\":\"#ee82ee\"},\n",
    "            {\"crop\":\"pepper\",\"id\":24,\"colour\":\"#e6e6fa\"} \n",
    "           ]\n",
    "with open(f'{datavariables[\"metadatadir\"]}{dataset}_labels_id.json',\"w\") as fp:\n",
    "    json.dump(labelids,fp,skipkeys=\"colour\",separators=(',', ':'))"
   ]
  }
 ],
 "metadata": {
  "kernelspec": {
   "display_name": "Python 3",
   "language": "python",
   "name": "python3"
  },
  "language_info": {
   "codemirror_mode": {
    "name": "ipython",
    "version": 3
   },
   "file_extension": ".py",
   "mimetype": "text/x-python",
   "name": "python",
   "nbconvert_exporter": "python",
   "pygments_lexer": "ipython3",
   "version": "3.8.5"
  }
 },
 "nbformat": 4,
 "nbformat_minor": 5
}
