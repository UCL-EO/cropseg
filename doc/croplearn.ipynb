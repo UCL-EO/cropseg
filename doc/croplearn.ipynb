{
 "cells": [
  {
   "cell_type": "markdown",
   "id": "acute-korea",
   "metadata": {},
   "source": [
    "## croplearn.ipynb"
   ]
  },
  {
   "cell_type": "code",
   "execution_count": 1,
   "id": "preceding-catalog",
   "metadata": {},
   "outputs": [],
   "source": [
    "import sys\n",
    "sys.path.insert(0,'../cropseg/')\n",
    "\n",
    "datasetinfo = { \"datadir\":\"/home/ucfaab0/Desktop/su_african_crops_ghana/\",\n",
    "                \"metadatadir\":\"/home/ucfaab0/Desktop/su_african_crops_ghana/metadata/\",\n",
    "                \"dataset\":\"su_african_crops_ghana\",\n",
    "                \"groundcollection\":\"su_african_crops_ghana_labels\",\n",
    "                \"s1collection\":\"su_african_crops_ghana_source_s1\",\n",
    "                \"s2collection\":\"su_african_crops_ghana_source_s2\",\n",
    "                \"groundlabels\":\"su_african_crops_ghana_labels_id.json\",\n",
    "                \"groundmetadata\":\"su_african_crops_ghana_labels.json\",\n",
    "                \"s1metadata\":\"su_african_crops_ghana_source_s1.json\",\n",
    "                \"s2metadata\":\"su_african_crops_ghana_source_s2.json\",\n",
    "                \"groundname\":\"labels.tif\",\n",
    "                \"s1imagename\":\"source.tif\",\n",
    "                \"s2imagename\":\"source.tif\",\n",
    "                \"s2maskname\":\"cloudmask.tif\",\n",
    "                \"groundshape\":[64,64],\n",
    "                \"s1shape\":[64,64],\n",
    "                \"s2shape\":[64,64],\n",
    "                \"extension\":\"tif\"\n",
    "              }\n",
    "s1bands = [\n",
    "            {\"band\":\"vv\",\"idx\":0},\n",
    "            {\"band\":\"vh\",\"idx\":1},    \n",
    "          ]  \n",
    "s2bands = [\n",
    "            {\"band\":\"blue\",\"wavelength\":490,\"idx\":0},\n",
    "            {\"band\":\"green\",\"wavelength\":560,\"idx\":1},\n",
    "            {\"band\":\"red\",\"wavelength\":665,\"idx\":2},\n",
    "            {\"band\":\"rded1\",\"wavelength\":705,\"idx\":3},\n",
    "            {\"band\":\"rded2\",\"wavelength\":740,\"idx\":4},\n",
    "            {\"band\":\"rded3\",\"wavelength\":783,\"idx\":5},\n",
    "            {\"band\":\"nir\",\"wavelength\":842,\"idx\":6},\n",
    "            {\"band\":\"rded4\",\"wavelength\":865,\"idx\":7},\n",
    "            {\"band\":\"swir1\",\"wavelength\":1610,\"idx\":8},\n",
    "            {\"band\":\"swir2\",\"wavelength\":2190,\"idx\":9}\n",
    "          ]\n",
    "s1indices = [\"vhvv\"]\n",
    "s2indices = [\"ndvi\",\"rdedci\",\"ndmi\"]\n",
    "\n",
    "from mlhubdata import loadjson\n",
    "groundlabels = loadjson(f'{datasetinfo[\"metadatadir\"]}{datasetinfo[\"groundlabels\"]}')\n",
    "groundmetadata = loadjson(f'{datasetinfo[\"metadatadir\"]}{datasetinfo[\"groundmetadata\"]}')\n",
    "s1metadata = loadjson(f'{datasetinfo[\"metadatadir\"]}{datasetinfo[\"s1metadata\"]}')\n",
    "s2metadata = loadjson(f'{datasetinfo[\"metadatadir\"]}{datasetinfo[\"s2metadata\"]}')\n",
    "\n",
    "skiplist = [\"001268\"]"
   ]
  },
  {
   "cell_type": "code",
   "execution_count": null,
   "id": "educated-radical",
   "metadata": {},
   "outputs": [],
   "source": []
  },
  {
   "cell_type": "code",
   "execution_count": null,
   "id": "married-colony",
   "metadata": {},
   "outputs": [],
   "source": []
  },
  {
   "cell_type": "code",
   "execution_count": null,
   "id": "vietnamese-complement",
   "metadata": {},
   "outputs": [],
   "source": []
  },
  {
   "cell_type": "code",
   "execution_count": null,
   "id": "alleged-prime",
   "metadata": {},
   "outputs": [],
   "source": []
  },
  {
   "cell_type": "code",
   "execution_count": null,
   "id": "welcome-clarity",
   "metadata": {},
   "outputs": [],
   "source": []
  },
  {
   "cell_type": "code",
   "execution_count": null,
   "id": "organizational-whale",
   "metadata": {},
   "outputs": [],
   "source": []
  },
  {
   "cell_type": "code",
   "execution_count": 3,
   "id": "celtic-smart",
   "metadata": {},
   "outputs": [],
   "source": [
    "d = numpy.copy(data)\n",
    "numpy.random.shuffle(d)\n",
    "d[:,0] = d[:,0] - 1\n",
    "d0 = d[d[:,0] == 0][:40000]\n",
    "d1 = d[d[:,0] == 1][:40000]\n",
    "d2 = d[d[:,0] == 2][:40000]\n",
    "d3 = d[d[:,0] == 3][:40000]\n",
    "d = numpy.concatenate([d0,d1,d2,d3])\n",
    "numpy.random.shuffle(d)\n",
    "xtrain, ytrain = d[4000:,1:],d[4000:,0] \n",
    "xtest, ytest = d[:4000,1:],d[:4000,0] "
   ]
  },
  {
   "cell_type": "code",
   "execution_count": 4,
   "id": "improved-render",
   "metadata": {},
   "outputs": [
    {
     "name": "stdout",
     "output_type": "stream",
     "text": [
      "Epoch 1/21\n",
      "4875/4875 [==============================] - 5s 960us/step - loss: 1.6480 - accuracy: 0.3483\n",
      "Epoch 2/21\n",
      "4875/4875 [==============================] - 5s 956us/step - loss: 1.2987 - accuracy: 0.3862\n",
      "Epoch 3/21\n",
      "4875/4875 [==============================] - 5s 951us/step - loss: 1.2877 - accuracy: 0.3941\n",
      "Epoch 4/21\n",
      "4875/4875 [==============================] - 5s 964us/step - loss: 1.2839 - accuracy: 0.3953\n",
      "Epoch 5/21\n",
      "4875/4875 [==============================] - 5s 956us/step - loss: 1.2814 - accuracy: 0.3984\n",
      "Epoch 6/21\n",
      "4875/4875 [==============================] - 5s 959us/step - loss: 1.2784 - accuracy: 0.3998\n",
      "Epoch 7/21\n",
      "4875/4875 [==============================] - 5s 951us/step - loss: 1.2792 - accuracy: 0.3996\n",
      "Epoch 8/21\n",
      "4875/4875 [==============================] - 5s 962us/step - loss: 1.2751 - accuracy: 0.4013\n",
      "Epoch 9/21\n",
      "4875/4875 [==============================] - 5s 961us/step - loss: 1.2773 - accuracy: 0.4013\n",
      "Epoch 10/21\n",
      "4875/4875 [==============================] - 5s 1ms/step - loss: 1.2751 - accuracy: 0.4007\n",
      "Epoch 11/21\n",
      "4875/4875 [==============================] - 5s 997us/step - loss: 1.2723 - accuracy: 0.4027\n",
      "Epoch 12/21\n",
      "4875/4875 [==============================] - 5s 967us/step - loss: 1.2734 - accuracy: 0.4032\n",
      "Epoch 13/21\n",
      "4875/4875 [==============================] - 5s 946us/step - loss: 1.2698 - accuracy: 0.4077\n",
      "Epoch 14/21\n",
      "4875/4875 [==============================] - 5s 946us/step - loss: 1.2744 - accuracy: 0.4015\n",
      "Epoch 15/21\n",
      "4875/4875 [==============================] - 5s 955us/step - loss: 1.2723 - accuracy: 0.4051\n",
      "Epoch 16/21\n",
      "4875/4875 [==============================] - 5s 979us/step - loss: 1.2716 - accuracy: 0.4049\n",
      "Epoch 17/21\n",
      "4875/4875 [==============================] - 5s 977us/step - loss: 1.2724 - accuracy: 0.4042\n",
      "Epoch 18/21\n",
      "4875/4875 [==============================] - 5s 974us/step - loss: 1.2732 - accuracy: 0.4031\n",
      "Epoch 19/21\n",
      "4875/4875 [==============================] - 5s 974us/step - loss: 1.2707 - accuracy: 0.4052\n",
      "Epoch 20/21\n",
      "4875/4875 [==============================] - 5s 977us/step - loss: 1.2737 - accuracy: 0.4027\n",
      "Epoch 21/21\n",
      "4875/4875 [==============================] - 5s 976us/step - loss: 1.2681 - accuracy: 0.4070\n",
      "Model: \"sequential\"\n",
      "_________________________________________________________________\n",
      "Layer (type)                 Output Shape              Param #   \n",
      "=================================================================\n",
      "dense (Dense)                (32, 30)                  480       \n",
      "_________________________________________________________________\n",
      "dense_1 (Dense)              (32, 30)                  930       \n",
      "_________________________________________________________________\n",
      "dense_2 (Dense)              (32, 4)                   124       \n",
      "=================================================================\n",
      "Total params: 1,534\n",
      "Trainable params: 1,534\n",
      "Non-trainable params: 0\n",
      "_________________________________________________________________\n"
     ]
    }
   ],
   "source": [
    "import tensorflow as tf\n",
    "from tensorflow.keras import layers\n",
    "from tensorflow.keras.layers.experimental import preprocessing\n",
    "model = tf.keras.Sequential([\n",
    "    layers.Dense(dctcoefficients*2,activation='relu'),\n",
    "    layers.Dense(dctcoefficients*2,activation='relu'),\n",
    "    layers.Dense(4)\n",
    "])\n",
    "model.compile(optimizer='Adam',loss=tf.keras.losses.SparseCategoricalCrossentropy(from_logits=True),metrics=['accuracy'])\n",
    "model.fit(xtrain,ytrain,epochs=21)\n",
    "model.summary()"
   ]
  },
  {
   "cell_type": "code",
   "execution_count": 5,
   "id": "developmental-porter",
   "metadata": {},
   "outputs": [
    {
     "name": "stdout",
     "output_type": "stream",
     "text": [
      "125/125 [==============================] - 0s 612us/step - loss: 1.2712 - accuracy: 0.4040\n",
      "[0.45812124 0.15564202 0.4745167  0.42230026] 0.3770130412795332\n",
      "0.20603506600749366\n"
     ]
    }
   ],
   "source": [
    "import sklearn.metrics\n",
    "model.evaluate(xtest,ytest,verbose=1)\n",
    "predictions = model.predict(xtest)\n",
    "predict = numpy.argmax(predictions,axis = 1)\n",
    "true = numpy.array(ytest,dtype=int)\n",
    "print(sklearn.metrics.f1_score(true,predict,average=None),sklearn.metrics.f1_score(true,predict,average=\"weighted\"))\n",
    "print(sklearn.metrics.cohen_kappa_score(true,predict))"
   ]
  },
  {
   "cell_type": "code",
   "execution_count": 6,
   "id": "renewable-richardson",
   "metadata": {},
   "outputs": [
    {
     "name": "stdout",
     "output_type": "stream",
     "text": [
      "0.25675\n",
      "[0.244      0.26013007 0.26821862 0.25481481] 0.2567395848828598\n",
      "0.009034766363613445\n"
     ]
    }
   ],
   "source": [
    "import sklearn.dummy\n",
    "dummy = sklearn.dummy.DummyClassifier(strategy=\"uniform\")\n",
    "dummy.fit(xtrain,ytrain)\n",
    "predict = dummy.predict(xtest)\n",
    "true = numpy.array(ytest,dtype=int)\n",
    "print(sklearn.metrics.accuracy_score(true,predict))\n",
    "print(sklearn.metrics.f1_score(true,predict,average=None),sklearn.metrics.f1_score(true,predict,average=\"weighted\"))\n",
    "print(sklearn.metrics.cohen_kappa_score(true,predict))"
   ]
  }
 ],
 "metadata": {
  "kernelspec": {
   "display_name": "Python 3",
   "language": "python",
   "name": "python3"
  },
  "language_info": {
   "codemirror_mode": {
    "name": "ipython",
    "version": 3
   },
   "file_extension": ".py",
   "mimetype": "text/x-python",
   "name": "python",
   "nbconvert_exporter": "python",
   "pygments_lexer": "ipython3",
   "version": "3.8.5"
  }
 },
 "nbformat": 4,
 "nbformat_minor": 5
}
